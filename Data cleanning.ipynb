{
 "cells": [
  {
   "cell_type": "code",
   "execution_count": 2,
   "id": "36aed415-6927-48a4-88e6-08fb0dc487a1",
   "metadata": {},
   "outputs": [
    {
     "name": "stdout",
     "output_type": "stream",
     "text": [
      "   Transaction_ID      Item  Quantity  Price_Per_Unit  Total_Spent  \\\n",
      "0            1001    Coffee       2.0           3.500         7.00   \n",
      "1            1002       Tea       1.0           2.750         2.75   \n",
      "2            1004  Sandwich       3.0           5.500        16.50   \n",
      "3            1005    Muffin       2.0           3.875         6.50   \n",
      "\n",
      "  Payment_Method  Location  \n",
      "0         Credit  Downtown  \n",
      "1           Cash       NaN  \n",
      "2         Credit  Downtown  \n",
      "3          Debit   Midtown  \n"
     ]
    },
    {
     "name": "stderr",
     "output_type": "stream",
     "text": [
      "C:\\Users\\LENOVO\\AppData\\Local\\Temp\\ipykernel_8732\\1862624934.py:24: FutureWarning: Downcasting behavior in `replace` is deprecated and will be removed in a future version. To retain the old behavior, explicitly call `result.infer_objects(copy=False)`. To opt-in to the future behavior, set `pd.set_option('future.no_silent_downcasting', True)`\n",
      "  df[col] = df[col].replace(error_vals, np.nan)\n",
      "C:\\Users\\LENOVO\\AppData\\Local\\Temp\\ipykernel_8732\\1862624934.py:31: FutureWarning: A value is trying to be set on a copy of a DataFrame or Series through chained assignment using an inplace method.\n",
      "The behavior will change in pandas 3.0. This inplace method will never work because the intermediate object on which we are setting values always behaves as a copy.\n",
      "\n",
      "For example, when doing 'df[col].method(value, inplace=True)', try using 'df.method({col: value}, inplace=True)' or df[col] = df[col].method(value) instead, to perform the operation inplace on the original object.\n",
      "\n",
      "\n",
      "  df['Quantity'].fillna(df['Quantity'].median(), inplace=True)\n",
      "C:\\Users\\LENOVO\\AppData\\Local\\Temp\\ipykernel_8732\\1862624934.py:32: FutureWarning: A value is trying to be set on a copy of a DataFrame or Series through chained assignment using an inplace method.\n",
      "The behavior will change in pandas 3.0. This inplace method will never work because the intermediate object on which we are setting values always behaves as a copy.\n",
      "\n",
      "For example, when doing 'df[col].method(value, inplace=True)', try using 'df.method({col: value}, inplace=True)' or df[col] = df[col].method(value) instead, to perform the operation inplace on the original object.\n",
      "\n",
      "\n",
      "  df['Price_Per_Unit'].fillna(df['Price_Per_Unit'].median(), inplace=True)\n",
      "C:\\Users\\LENOVO\\AppData\\Local\\Temp\\ipykernel_8732\\1862624934.py:33: FutureWarning: A value is trying to be set on a copy of a DataFrame or Series through chained assignment using an inplace method.\n",
      "The behavior will change in pandas 3.0. This inplace method will never work because the intermediate object on which we are setting values always behaves as a copy.\n",
      "\n",
      "For example, when doing 'df[col].method(value, inplace=True)', try using 'df.method({col: value}, inplace=True)' or df[col] = df[col].method(value) instead, to perform the operation inplace on the original object.\n",
      "\n",
      "\n",
      "  df['Total_Spent'].fillna(df['Total_Spent'].median(), inplace=True)\n"
     ]
    }
   ],
   "source": [
    "import pandas as pd\n",
    "import numpy as np\n",
    "\n",
    "# Create sample data instead of loading from a non-existent file\n",
    "# This creates a DataFrame with sample cafe sales data\n",
    "data = {\n",
    "    'Transaction_ID': [1001, 1002, 1003, 1004, 1005],\n",
    "    'Item': ['Coffee', 'Tea', 'ERROR', 'Sandwich', 'Muffin'],\n",
    "    'Quantity': [2, 1, 'UNKNOWN', 3, 2],\n",
    "    'Price_Per_Unit': [3.50, 2.75, 4.25, 5.50, 'ERROR'],\n",
    "    'Total_Spent': [7.00, 2.75, 'UNKNOWN', 16.50, 6.50],\n",
    "    'Payment_Method': ['credit', 'cash', 'UNKNOWN', 'credit', 'debit'],\n",
    "    'Location': ['downtown', 'UNKNOW', 'uptown', 'downtown', 'midtown']\n",
    "}\n",
    "\n",
    "df = pd.DataFrame(data)\n",
    "\n",
    "# 1. Rename columns for clarity (already done in our sample data creation)\n",
    "\n",
    "# 2. Standardize missing and error values\n",
    "error_vals = ['ERROR', 'UNKNOW', 'UNKNOWN']\n",
    "\n",
    "for col in df.columns:\n",
    "    df[col] = df[col].replace(error_vals, np.nan)\n",
    "\n",
    "# 3. Convert numeric columns to appropriate dtype\n",
    "for col in ['Quantity', 'Price_Per_Unit', 'Total_Spent']:\n",
    "    df[col] = pd.to_numeric(df[col], errors='coerce')\n",
    "\n",
    "# 4. Fill or drop NaNs based on logic and importance\n",
    "df['Quantity'].fillna(df['Quantity'].median(), inplace=True)\n",
    "df['Price_Per_Unit'].fillna(df['Price_Per_Unit'].median(), inplace=True)\n",
    "df['Total_Spent'].fillna(df['Total_Spent'].median(), inplace=True)\n",
    "df.dropna(subset=['Item', 'Payment_Method'], inplace=True)\n",
    "\n",
    "# 5. Standardize categorical data\n",
    "df['Location'] = df['Location'].str.title()\n",
    "df['Payment_Method'] = df['Payment_Method'].str.title()\n",
    "\n",
    "# 6. Remove duplicates and reset index\n",
    "df.drop_duplicates(inplace=True)\n",
    "df.reset_index(drop=True, inplace=True)\n",
    "\n",
    "# 7. Optional: Save or inspect the cleaned data\n",
    "# Commenting out the save operation since we're working with sample data\n",
    "# df.to_csv(\"cleaned_cafe_sales.csv\", index=False)\n",
    "print(df.head())\n"
   ]
  },
  {
   "cell_type": "code",
   "execution_count": null,
   "id": "3a171938-c4b0-42a3-b896-f2a86eb619b4",
   "metadata": {},
   "outputs": [],
   "source": []
  },
  {
   "cell_type": "code",
   "execution_count": null,
   "id": "3eab6c38-f00c-48c1-8383-7736bbdce0df",
   "metadata": {},
   "outputs": [],
   "source": []
  },
  {
   "cell_type": "code",
   "execution_count": null,
   "id": "ea29e2a6-53fa-4b41-b1dc-650417ae2a63",
   "metadata": {},
   "outputs": [],
   "source": []
  }
 ],
 "metadata": {
  "kernelspec": {
   "display_name": "Python [conda env:base] *",
   "language": "python",
   "name": "conda-base-py"
  },
  "language_info": {
   "codemirror_mode": {
    "name": "ipython",
    "version": 3
   },
   "file_extension": ".py",
   "mimetype": "text/x-python",
   "name": "python",
   "nbconvert_exporter": "python",
   "pygments_lexer": "ipython3",
   "version": "3.12.7"
  }
 },
 "nbformat": 4,
 "nbformat_minor": 5
}
